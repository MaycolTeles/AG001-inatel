{
 "cells": [
  {
   "cell_type": "markdown",
   "id": "36764818",
   "metadata": {},
   "source": [
    "<H2> CALCULATING INTEGRAL </H2>"
   ]
  },
  {
   "cell_type": "code",
   "execution_count": 6,
   "id": "b9e68130",
   "metadata": {},
   "outputs": [
    {
     "name": "stdout",
     "output_type": "stream",
     "text": [
      "Exercise 1: Calculating the integral of the function: 565/12\n",
      "\n"
     ]
    }
   ],
   "source": [
    "import sympy\n",
    "\n",
    "\n",
    "# INSERT THE REGISTRATION BELOW\n",
    "REGISTRATION = 931\n",
    "\n",
    "C = REGISTRATION % 10\n",
    "\n",
    "\n",
    "\n",
    "def function(x, C):\n",
    "    '''\n",
    "    Function to return the function to calculate the integral of, based on the variable and the constant received as arguments.\n",
    "    @Receives: The function's variable; The function's constant.\n",
    "    @Return: The function.\n",
    "    '''\n",
    "    \n",
    "    # DEFINING THE FUNCTION\n",
    "    return x**3 - 4*x**2 + 5*x - C\n",
    "\n",
    "\n",
    "\n",
    "\n",
    "def calculate_integral(function, variable, limits=None):\n",
    "    '''\n",
    "    Function to calculate and return the integral of the function received as argument based on the variable received as argument.\n",
    "    @Receives: The function to calculate the integral of; The function's variable;\n",
    "    @Optional_Receive: The limits of the integral.\n",
    "    @Returns: The results of the calculated integral.\n",
    "    '''    \n",
    "  \n",
    "    # SETTING UP THE RESULTS\n",
    "    results = []\n",
    "    \n",
    "    \n",
    "    # IF LIMITS WAS PASSED, CALCULATE THE INTEGRAL BETWEEN THEM\n",
    "    if limits:\n",
    "        integral = sympy.Integral(function, (variable, limits['min'], limits['max']) )\n",
    "        \n",
    "    else:\n",
    "        integral = sympy.Integral(function, variable)\n",
    "    \n",
    "    \n",
    "    # CALCULATING THE INTEGRAL\n",
    "    result = integral.doit()        \n",
    "    \n",
    "    \n",
    "    # RETURNING THE RESULT\n",
    "    return result\n",
    "\n",
    "\n",
    "\n",
    "\n",
    "# DEFINING THE FUNCTION'S VARIABLE\n",
    "VARIABLE = sympy.Symbol('x')\n",
    "\n",
    "\n",
    "# GETTING THE FUNCTION\n",
    "FUNCTION = function(VARIABLE, C)\n",
    "\n",
    "\n",
    "# SETTING UP THE ARGUMENTS (LIMITS MIN & MAX)\n",
    "limits = {'min' : 0, 'max' : 5}\n",
    "\n",
    "\n",
    "# CALLING THE DERIVATIVE FUNCTION\n",
    "result = calculate_integral(FUNCTION, VARIABLE, limits)\n",
    "\n",
    "    \n",
    "# PRINTING THE RESULT\n",
    "print(f'Exercise {1}: Calculating the integral of the function: {result}\\n')"
   ]
  },
  {
   "cell_type": "code",
   "execution_count": null,
   "id": "bf8cc544",
   "metadata": {},
   "outputs": [],
   "source": []
  }
 ],
 "metadata": {
  "kernelspec": {
   "display_name": "Python 3",
   "language": "python",
   "name": "python3"
  },
  "language_info": {
   "codemirror_mode": {
    "name": "ipython",
    "version": 3
   },
   "file_extension": ".py",
   "mimetype": "text/x-python",
   "name": "python",
   "nbconvert_exporter": "python",
   "pygments_lexer": "ipython3",
   "version": "3.8.5"
  }
 },
 "nbformat": 4,
 "nbformat_minor": 5
}
