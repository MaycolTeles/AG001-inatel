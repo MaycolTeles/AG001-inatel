{
 "cells": [
  {
   "cell_type": "markdown",
   "id": "014138d7",
   "metadata": {},
   "source": [
    "<H2> CALCULATING DERIVATIVE </H2>"
   ]
  },
  {
   "cell_type": "code",
   "execution_count": 22,
   "id": "c9515b9d",
   "metadata": {},
   "outputs": [
    {
     "name": "stdout",
     "output_type": "stream",
     "text": [
      "Exercise 1: Calculating the derivative of the function: -t**2 + 4*t\n",
      "\n",
      "Exercise 2: Calculating the derivative of the function: 3\n",
      "\n",
      "Exercise 3: Calculating the derivative of the function: 2*(2 - t)\n",
      "\n",
      "Exercise 4: Calculating the derivative of the function: -6\n",
      "\n"
     ]
    }
   ],
   "source": [
    "import sympy\n",
    "\n",
    "\n",
    "# INSERT THE REGISTRATION BELOW\n",
    "REGISTRATION = 931\n",
    "\n",
    "C = REGISTRATION % 10\n",
    "\n",
    "\n",
    "\n",
    "def function(t, C):\n",
    "    '''\n",
    "    Function to return the function to calculate the derivative of, based on the variable and the constant received as arguments.\n",
    "    @Receives: The function's variable; The function's constant.\n",
    "    @Return: The function.\n",
    "    '''\n",
    "    \n",
    "    # DEFINING THE FUNCTION\n",
    "    return (-t**3 / 3) + (2*t**2) - C\n",
    "\n",
    "\n",
    "\n",
    "\n",
    "def calculate_derivative(function, variable, order=1, point=None):\n",
    "    '''\n",
    "    Function to calculate and return the derivative of the function received as argument based on the order, the variable and the point received as arguments.\n",
    "    @Receives: The function to calculate the derivative of; The function's variable;\n",
    "    @Optional_Receive: The derivative's order; The derivative's points.\n",
    "    @Returns: The results of the calculated derivatives.\n",
    "    '''    \n",
    "  \n",
    "    # SETTING UP THE RESULTS\n",
    "    results = []\n",
    "    \n",
    "     \n",
    "    # SETTING UP THE DERIVATIVE\n",
    "    derivative = sympy.Derivative(function, variable, order)\n",
    "    \n",
    "    \n",
    "    # CALCULATING THE DERIVATIVE\n",
    "    result = derivative.doit()\n",
    "    \n",
    "    \n",
    "    # IF A POINT WAS PASSED, CALCULATE THE DERIVATIVE ON THAT POINT\n",
    "    if point:\n",
    "        result = result.subs({variable:point})\n",
    "        \n",
    "        \n",
    "    # RETURNING THE RESULT\n",
    "    return result\n",
    "\n",
    "\n",
    "\n",
    "\n",
    "# DEFINING THE FUNCTION'S VARIABLE\n",
    "VARIABLE = sympy.Symbol('t')\n",
    "\n",
    "\n",
    "# GETTING THE FUNCTION\n",
    "FUNCTION = function(VARIABLE, C)\n",
    "\n",
    "\n",
    "# SETTING UP THE ARGUMENTS (ORDERS & POINTS)\n",
    "calc_1 = {'order' : 1, 'point' : None}\n",
    "calc_2 = {'order' : 1, 'point' : 3}\n",
    "calc_3 = {'order' : 2, 'point' : None}\n",
    "calc_4 = {'order' : 2, 'point' : 5}\n",
    "\n",
    "arguments = [calc_1, calc_2, calc_3, calc_4]\n",
    "\n",
    "\n",
    "\n",
    "# CALLING THE DERIVATIVE FUNCTION\n",
    "results = []\n",
    "\n",
    "for argument in arguments:\n",
    "    result = calculate_derivative(FUNCTION, VARIABLE, argument['order'], argument['point'])\n",
    "    results.append(result)\n",
    "\n",
    "    \n",
    "# PRINTING THE RESULT\n",
    "for i in range( len(results) ):\n",
    "    print(f'Exercise {i+1}: Calculating the derivative of the function: {results[i]}\\n')"
   ]
  },
  {
   "cell_type": "code",
   "execution_count": null,
   "id": "0dc6d282",
   "metadata": {},
   "outputs": [],
   "source": []
  }
 ],
 "metadata": {
  "kernelspec": {
   "display_name": "Python 3",
   "language": "python",
   "name": "python3"
  },
  "language_info": {
   "codemirror_mode": {
    "name": "ipython",
    "version": 3
   },
   "file_extension": ".py",
   "mimetype": "text/x-python",
   "name": "python",
   "nbconvert_exporter": "python",
   "pygments_lexer": "ipython3",
   "version": "3.8.5"
  }
 },
 "nbformat": 4,
 "nbformat_minor": 5
}
